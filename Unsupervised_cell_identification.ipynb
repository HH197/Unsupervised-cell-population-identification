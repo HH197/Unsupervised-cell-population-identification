{
  "nbformat": 4,
  "nbformat_minor": 0,
  "metadata": {
    "colab": {
      "provenance": [],
      "authorship_tag": "ABX9TyM2N8837Tq1ZeX53NDprE/l",
      "include_colab_link": true
    },
    "kernelspec": {
      "name": "python3",
      "display_name": "Python 3"
    },
    "language_info": {
      "name": "python"
    }
  },
  "cells": [
    {
      "cell_type": "markdown",
      "metadata": {
        "id": "view-in-github",
        "colab_type": "text"
      },
      "source": [
        "<a href=\"https://colab.research.google.com/github/HH197/Unsupervised-cell-population-identification/blob/main/Unsupervised_cell_identification.ipynb\" target=\"_parent\"><img src=\"https://colab.research.google.com/assets/colab-badge.svg\" alt=\"Open In Colab\"/></a>"
      ]
    },
    {
      "cell_type": "code",
      "execution_count": 27,
      "metadata": {
        "id": "uYtkvxCbZyMu"
      },
      "outputs": [],
      "source": [
        "import torch \n",
        "import torch.nn as nn\n",
        "from torch.utils.data import Dataset, DataLoader, random_split\n",
        "\n",
        "import pandas as pd\n",
        "import numpy as np\n",
        "from matplotlib import pyplot as plt\n",
        "from sklearn.cluster import KMeans\n",
        "from sklearn.cluster import SpectralClustering\n",
        "from sklearn import metrics\n",
        "from sklearn.decomposition import PCA\n",
        "\n",
        "from google.colab import drive"
      ]
    },
    {
      "cell_type": "code",
      "source": [
        "torch.manual_seed(197)"
      ],
      "metadata": {
        "colab": {
          "base_uri": "https://localhost:8080/"
        },
        "id": "3Efh63mlazuQ",
        "outputId": "dbc65b67-523d-43b5-ea40-b6e4eeeadc41"
      },
      "execution_count": 2,
      "outputs": [
        {
          "output_type": "execute_result",
          "data": {
            "text/plain": [
              "<torch._C.Generator at 0x7fa8463e5830>"
            ]
          },
          "metadata": {},
          "execution_count": 2
        }
      ]
    },
    {
      "cell_type": "markdown",
      "source": [
        "Mounting Google Drive so that I can read and write from GDrive."
      ],
      "metadata": {
        "id": "7YGOfnHvCyYN"
      }
    },
    {
      "cell_type": "code",
      "source": [
        "# Mounting Google Drive\n",
        "drive.mount('/content/gdrive')\n",
        "base_dir = '/content/gdrive/My Drive/SL_project/'"
      ],
      "metadata": {
        "colab": {
          "base_uri": "https://localhost:8080/"
        },
        "id": "3Wija9d_aEWJ",
        "outputId": "73757b51-3ef8-49c7-c303-65ad8bfbd8a0"
      },
      "execution_count": 3,
      "outputs": [
        {
          "output_type": "stream",
          "name": "stdout",
          "text": [
            "Mounted at /content/gdrive\n"
          ]
        }
      ]
    },
    {
      "cell_type": "code",
      "source": [
        "class CORTEX(Dataset):\n",
        "    \n",
        "    ''' \n",
        "    The Dataset class with necessary pre-processing steps for the gold standard\n",
        "    Zeisel data set.\n",
        "    \n",
        "    '''\n",
        "    \n",
        "    def __init__ (self, \n",
        "                  file_dir= base_dir + \"expression_mRNA_17-Aug-2014.txt\", \n",
        "                  n_genes = 558):\n",
        "    \n",
        "        '''\n",
        "        \n",
        "        Performs the pre-processing steps which are:\n",
        "        \n",
        "        1. exctract the labels of the cell types from the data\n",
        "        2. choose the genes that are transcribed in more than 25 cells \n",
        "        3. Select the `n_genes` genes with the highest Variance in the remaining genes from the previous step\n",
        "        4. Log transform the data\n",
        "        4. Perform random permutation of the genes \n",
        "        \n",
        "        Attributes\n",
        "        ----------\n",
        "        file_dir : str \n",
        "            The path to the .csv file.\n",
        "        n_genes : int \n",
        "            Number of the high variable genes that should be selected.\n",
        "        n_cells\n",
        "            Total number of cells.\n",
        "        data: torch Tensor\n",
        "            The data.\n",
        "        labels: torch Tensor\n",
        "            The labels.\n",
        "        '''\n",
        "        \n",
        "        self.file_dir = file_dir\n",
        "        self.n_genes = n_genes\n",
        "        \n",
        "        df = pd.read_csv(self.file_dir, delimiter= '\\t', low_memory=False)\n",
        "        \n",
        "        # Groups of cells, i.e. labels\n",
        "        Groups = df.iloc[7,]\n",
        "        \n",
        "        Groups = Groups.values[2:]\n",
        "        _ , labels = np.unique(Groups, return_inverse=True)\n",
        "        \n",
        "        df1 = df.iloc[10:].copy()\n",
        "        df1.drop(['tissue', 'Unnamed: 0'], inplace=True, axis=1)\n",
        "        df1 = df1.astype(float)\n",
        "        \n",
        "        # choosing genes that are transcribed in more than 25 cells\n",
        "        rows = np.count_nonzero(df1, axis=1) > 25 \n",
        "        df1 = df1[np.ndarray.tolist(rows)]\n",
        "        \n",
        "        data = np.ndarray.astype(df1.values, float)\n",
        "        data = np.log10(data + 1.0)\n",
        "\n",
        "        # sorting the data based on the variance\n",
        "        rows = np.argsort(np.var(data, axis = 1)*-1) \n",
        "        data = data[rows,:]\n",
        "        data = data[0:self.n_genes, :] # choosing high variable genes \n",
        "        \n",
        "        #permutation on features (they were sorted)\n",
        "        np.random.seed(197)\n",
        "        p = np.random.permutation(data.shape[0])\n",
        "        data = data[p,:]\n",
        "        \n",
        "        y = data.T\n",
        "        \n",
        "        self.n_cells = y.shape[0]\n",
        "        self.data = torch.from_numpy(y).float()\n",
        "        self.labels = torch.tensor(labels)\n",
        "        \n",
        "    def __len__(self):\n",
        "        return self.n_cells\n",
        "    \n",
        "    def __getitem__ (self, index):\n",
        "        return self.data[index], self.labels[index]"
      ],
      "metadata": {
        "id": "iIh4cjRGatp9"
      },
      "execution_count": 4,
      "outputs": []
    },
    {
      "cell_type": "code",
      "source": [
        "def measure_q(data, Groups= None, n_clusters=7,  \n",
        "              \n",
        "              kmeans_kwargs = {\"init\": \"random\", \n",
        "                               \"n_init\": 50, \n",
        "                               \"max_iter\": 400, \n",
        "                               \"random_state\": 197}):\n",
        "\n",
        "    '''\n",
        "    This function will measure the quality of clustering using NMI, ARI, and ASW metrics. \n",
        "    \n",
        "    Parameters\n",
        "    ----------\n",
        "    data : an array \n",
        "        The latent space of the model.\n",
        "    \n",
        "    Groups : an array\n",
        "        The real lables.\n",
        "    \n",
        "    n_clusters : int\n",
        "        The number of clusters in K-means.\n",
        "    '''\n",
        "    Groups = np.ndarray.astype(Groups, int)\n",
        "            \n",
        "    kmeans = KMeans(n_clusters, **kmeans_kwargs)\n",
        "    kmeans.fit(data)\n",
        "    \n",
        "    NMI = metrics.cluster.normalized_mutual_info_score(Groups, kmeans.labels_)\n",
        "    print(f'The NMI score is: {NMI}')\n",
        "    \n",
        "    ARI = metrics.adjusted_rand_score(Groups, kmeans.labels_)\n",
        "    print(f'The ARI score is: {ARI}')\n",
        "    \n",
        "    ASW = metrics.silhouette_score(data, kmeans.labels_)\n",
        "    print(f'The ASW score is: {ASW}')"
      ],
      "metadata": {
        "id": "pc8o7QCZbHPw"
      },
      "execution_count": 5,
      "outputs": []
    },
    {
      "cell_type": "code",
      "source": [
        "def plot_line (x, *Y, \n",
        "               line_style = 'None',\n",
        "               axis_x_ticks = None,\n",
        "               color = None, \n",
        "               xlab = \"Number of epochs\", \n",
        "               ylab = 'Loss',\n",
        "               save_fig = False, \n",
        "               path = './', \n",
        "               fig_name = 'fig.png'):\n",
        "  '''\n",
        "  A simple function to graph the plot lines with customized options.\n",
        "  '''\n",
        "  n = len(Y)\n",
        "  \n",
        "  if color == None:\n",
        "    cmap = plt.cm.get_cmap('Set1') \n",
        "    color = cmap.colors\n",
        "  else:\n",
        "    if not isinstance(color, list): color = [color]\n",
        "    color = color* (n//len(color))\n",
        "    color = color + color[:n-len(color)] \n",
        "  \n",
        "  fig, ax = plt.subplots(figsize=(7.48,5))\n",
        "\n",
        "  for i, y in enumerate(Y):\n",
        "    ax.plot(x, y, line_style, color = color[i])\n",
        "\n",
        "  if axis_x_ticks != None: \n",
        "    ax.set_xticks(axis_x_ticks)\n",
        "    ax.set_xticklabels(axis_x_ticks)\n",
        "  \n",
        "  ax.spines[\"top\"].set_color(None)\n",
        "  ax.spines[\"right\"].set_color(None)\n",
        "  ax.spines[\"bottom\"].set_color(\"black\")\n",
        "  ax.spines[\"left\"].set_color(\"black\")\n",
        "  ax.set_ylabel(ylab)\n",
        "  ax.set_xlabel(xlab)\n",
        "  \n",
        "  if n>1:\n",
        "    plt.gca().legend(('Train','Test'))\n",
        "\n",
        "  if save_fig:\n",
        "    plt.savefig(path + fig_name, bbox_inches='tight')\n",
        "\n",
        "  plt.show()"
      ],
      "metadata": {
        "id": "xysj3OM9bPUA"
      },
      "execution_count": 12,
      "outputs": []
    },
    {
      "cell_type": "markdown",
      "source": [
        "# PCA "
      ],
      "metadata": {
        "id": "v7Iii_o7bv8u"
      }
    },
    {
      "cell_type": "code",
      "source": [
        "cortex = CORTEX(n_genes=1024)"
      ],
      "metadata": {
        "id": "8fATX0pcb3aC"
      },
      "execution_count": 7,
      "outputs": []
    },
    {
      "cell_type": "code",
      "source": [
        "y, labels = next(iter(DataLoader(cortex, \n",
        "                                 batch_size= cortex.n_cells,\n",
        "                                 shuffle=True)))\n",
        "labels, y = labels.numpy(), y.numpy()\n"
      ],
      "metadata": {
        "id": "h4k1P070blwC"
      },
      "execution_count": 8,
      "outputs": []
    },
    {
      "cell_type": "code",
      "source": [
        "pca = PCA(n_components= 50)\n",
        "pca.fit(y)"
      ],
      "metadata": {
        "colab": {
          "base_uri": "https://localhost:8080/"
        },
        "id": "0uZKTugJ-hla",
        "outputId": "1cdf84ca-8f12-4a59-b5ef-2551c9e655fe"
      },
      "execution_count": 9,
      "outputs": [
        {
          "output_type": "execute_result",
          "data": {
            "text/plain": [
              "PCA(n_components=50)"
            ]
          },
          "metadata": {},
          "execution_count": 9
        }
      ]
    },
    {
      "cell_type": "code",
      "source": [
        "ex_var = pca.explained_variance_ratio_\n",
        "t = 0\n",
        "for i, j in enumerate(ex_var):\n",
        "  t += j\n",
        "  ex_var[i] = t"
      ],
      "metadata": {
        "id": "KESDkH6X-mgJ"
      },
      "execution_count": 10,
      "outputs": []
    },
    {
      "cell_type": "code",
      "source": [
        "plot_line(range(1, len(ex_var)+1), \n",
        "          ex_var,\n",
        "          line_style= \"o-\", \n",
        "          color = '#1ac6ff', \n",
        "          ylab = 'Percentage of Explained Variance', \n",
        "          xlab = 'Number of Components', \n",
        "          save_fig= True, \n",
        "          path = base_dir, \n",
        "          fig_name = 'PCA_EX_Var.png')"
      ],
      "metadata": {
        "colab": {
          "base_uri": "https://localhost:8080/",
          "height": 334
        },
        "id": "XpBtk7yd-zrB",
        "outputId": "108babfd-704b-4705-e2d3-024e516de701"
      },
      "execution_count": 13,
      "outputs": [
        {
          "output_type": "display_data",
          "data": {
            "text/plain": [
              "<Figure size 538.56x360 with 1 Axes>"
            ],
            "image/png": "[encoded data removed]"
          },
          "metadata": {
            "needs_background": "light"
          }
        }
      ]
    },
    {
      "cell_type": "code",
      "source": [
        "pca = PCA(n_components= 10)\n",
        "latent = pca.fit_transform(y)"
      ],
      "metadata": {
        "id": "LdsEcAuf_KOh"
      },
      "execution_count": 14,
      "outputs": []
    },
    {
      "cell_type": "code",
      "source": [
        "silhouette_coefficients = []\n",
        "kmeans_kwargs = {\"init\": \"random\", \"n_init\": 50, \"max_iter\": 400, \"random_state\": 197}\n",
        "\n",
        "\n",
        "for k in range(2, 10):\n",
        "    kmeans = KMeans(n_clusters=k, **kmeans_kwargs)\n",
        "    kmeans.fit(latent)\n",
        "    score = metrics.silhouette_score(y, kmeans.labels_)\n",
        "    silhouette_coefficients.append(score)"
      ],
      "metadata": {
        "id": "38y-Ve7O_pZi"
      },
      "execution_count": 15,
      "outputs": []
    },
    {
      "cell_type": "code",
      "source": [
        "plot_line(range(2, 10), \n",
        "          silhouette_coefficients,\n",
        "          line_style= \"o-\", \n",
        "          color = '#1ac6ff', \n",
        "          axis_x_ticks = range(2, 10), \n",
        "          save_fig= True, \n",
        "          path = base_dir, \n",
        "          fig_name = 'PCA_sli.png')"
      ],
      "metadata": {
        "colab": {
          "base_uri": "https://localhost:8080/",
          "height": 334
        },
        "id": "kfOHMHt5_tyZ",
        "outputId": "39432624-1c25-41ae-8a2a-e01e5cbec333"
      },
      "execution_count": 16,
      "outputs": [
        {
          "output_type": "display_data",
          "data": {
            "text/plain": [
              "<Figure size 538.56x360 with 1 Axes>"
            ],
            "image/png": "[encoded data removed]"
          },
          "metadata": {
            "needs_background": "light"
          }
        }
      ]
    },
    {
      "cell_type": "code",
      "source": [
        "measure_q(latent, labels)"
      ],
      "metadata": {
        "colab": {
          "base_uri": "https://localhost:8080/"
        },
        "id": "v5xXkWGy_xVC",
        "outputId": "2822bf9a-7b6a-4083-f384-3f317aaecb9f"
      },
      "execution_count": 15,
      "outputs": [
        {
          "output_type": "stream",
          "name": "stdout",
          "text": [
            "The NMI score is: 0.5598309300413099\n",
            "The ARI score is: 0.4714555769718787\n",
            "The ASW score is: 0.3055914640426636\n"
          ]
        }
      ]
    },
    {
      "cell_type": "markdown",
      "source": [
        "# Autoencoders"
      ],
      "metadata": {
        "id": "zIQKvpujAVVI"
      }
    },
    {
      "cell_type": "code",
      "source": [
        "class AE(nn.Module):\n",
        "\n",
        "  def __init__(self, layers, rep_layer):\n",
        "    \"\"\"\n",
        "    AutoEncoder model.\n",
        "\n",
        "    The Class for creating, training, and validating autoencoder models.\n",
        "\n",
        "    Parameters\n",
        "    ----------\n",
        "\n",
        "    layers : list \n",
        "      Layers of the encoder and decoder of the form [100,50,20], in which the numbers represent the number of neurons.\n",
        "\n",
        "    rep_layer : int \n",
        "      representation layer's number of dimension.\n",
        "\n",
        "    Attributes\n",
        "    ----------\n",
        "\n",
        "    encoder : Encoder of the AE.\n",
        "    decoder : Decoder of the AE.\n",
        "\n",
        "    Methods\n",
        "    -------\n",
        "\n",
        "    validate : Validates the model using test data and defined criterion.\n",
        "    train : Trains the model with early stopping.\n",
        "\n",
        "    \"\"\"\n",
        "    \n",
        "    super().__init__()\n",
        "    \n",
        "    layer_list = [] # a list holding all layers\n",
        "    len_model = len(layers)\n",
        "\n",
        "    # encoder\n",
        "\n",
        "    for i in range(len_model-1):\n",
        "      layer_list.append(nn.Linear(layers[i], layers[i+1]))\n",
        "      layer_list.append(nn.LeakyReLU(0.1))\n",
        "\n",
        "    # representation layer\n",
        "    layer_list.append(nn.Linear(layers[len_model-1], rep_layer))\n",
        "    layer_list.append(nn.Identity())\n",
        "    \n",
        "    self.encoder = nn.Sequential(*layer_list)\n",
        "\n",
        "    layers.append(rep_layer)\n",
        "    layers.reverse()\n",
        "    len_model = len(layers)\n",
        "    layer_list.clear()\n",
        "\n",
        "    # decoder layer\n",
        "    for i in range(len_model-1):\n",
        "      layer_list.append(nn.Linear(layers[i], layers[i+1]))\n",
        "      layer_list.append(nn.LeakyReLU(0.1))\n",
        "    \n",
        "    self.decoder = nn.Sequential(*layer_list)\n",
        "    \n",
        "\n",
        "  def forward(self, x):\n",
        "    \n",
        "    encoded = self.encoder(x)\n",
        "    decoded = self.decoder(encoded)\n",
        "\n",
        "    return encoded, decoded\n",
        "\n",
        "  def validate(self, test_data, criterion):\n",
        "\n",
        "    \"\"\"\n",
        "    Validates the model with given test data and criterion. \n",
        "\n",
        "    test_data : Tensor\n",
        "      The test data. \n",
        "\n",
        "    criterion : Pytorch loss function \n",
        "      Please refer to https://pytorch.org/docs/stable/nn.html#loss-functions\n",
        "    \"\"\"\n",
        "\n",
        "    with torch.no_grad():\n",
        "      encoded, decoded = self(test)\n",
        "      eval_loss = criterion(decoded, test)\n",
        "    return eval_loss.detach().item()\n",
        "\n",
        "  def train(self, \n",
        "            train_dl, \n",
        "            test_data,\n",
        "            optimizer,\n",
        "            criterion, \n",
        "            epochs = 30, \n",
        "            patience = 3):\n",
        "\n",
        "    \"\"\"\n",
        "    Trains the model\n",
        "\n",
        "    This function will train the model using specefic number of epochs. \n",
        "    During the training it will validate the data and uses early stopping to \n",
        "    avoid overfitting. \n",
        "\n",
        "    Parameters\n",
        "    ---------- \n",
        "    train_dl : Pytorch DataLoader class \n",
        "     Please visit Pytorch documentation. \n",
        "    test_data : Tensor\n",
        "      The test data.\n",
        "    optimizer : Pytorch optimizer \n",
        "      One of the various optimization algorithms implemented in `torch.optim`.\n",
        "    criterion : Pytorch loss function \n",
        "      Please refer to https://pytorch.org/docs/stable/nn.html#loss-functions\n",
        "\n",
        "    Returns\n",
        "    -------\n",
        "    losses : list \n",
        "      A list of training losses in each eopch.\n",
        "\n",
        "    eval_losses : list \n",
        "      A list of validation losses in each eopch.\n",
        "    \"\"\"\n",
        "        \n",
        "    losses = []\n",
        "    early_stop_cnt = 0\n",
        "    eval_losses = []\n",
        "    \n",
        "    best_eval_loss = self.validate(test_data, criterion)\n",
        "\n",
        "    for i in range(epochs):\n",
        "      i+=1\n",
        "      avg_loss = 0\n",
        "      counter = 0\n",
        "\n",
        "      for batch in train_dl:\n",
        "        counter += 1 \n",
        "        batch, _ = batch  \n",
        "        encoded, decoded = self(batch)\n",
        "        loss = criterion(decoded, batch)\n",
        "        avg_loss += loss.detach().item()\n",
        "        \n",
        "        optimizer.zero_grad()\n",
        "        loss.backward()\n",
        "        optimizer.step()\n",
        "      \n",
        "      avg_loss = avg_loss/counter \n",
        "      losses.append(avg_loss)\n",
        "\n",
        "      if i%4 == 1:\n",
        "            print(f'epoch: {i:3}  loss: {avg_loss:10.8f}')\n",
        "\n",
        "      eval_loss = self.validate(test_data, criterion)\n",
        "      eval_losses.append(eval_loss)\n",
        "\n",
        "      if eval_loss < best_eval_loss:\n",
        "        \n",
        "        best_eval_loss = eval_loss\n",
        "        #save model\n",
        "      else:\n",
        "        early_stop_cnt +=1\n",
        "\n",
        "      if early_stop_cnt >= patience:\n",
        "        break \n",
        "\n",
        "    return losses, eval_losses"
      ],
      "metadata": {
        "id": "a4OsbNutAb_i"
      },
      "execution_count": 17,
      "outputs": []
    },
    {
      "cell_type": "code",
      "source": [
        "n_genes = 3000\n",
        "cortex = CORTEX(n_genes=n_genes)"
      ],
      "metadata": {
        "id": "8aBbubg3AyvS"
      },
      "execution_count": 18,
      "outputs": []
    },
    {
      "cell_type": "code",
      "source": [
        "test_size = int(cortex.n_cells *0.2)\n",
        "train, test = random_split(cortex, [cortex.n_cells-test_size, test_size])"
      ],
      "metadata": {
        "id": "X5ye3aqkbd23"
      },
      "execution_count": 19,
      "outputs": []
    },
    {
      "cell_type": "code",
      "source": [
        "dl = DataLoader(train, batch_size=128, shuffle=True, drop_last=True)\n",
        "test, _ = test[:]"
      ],
      "metadata": {
        "id": "P_DfpcYeCVWu"
      },
      "execution_count": 20,
      "outputs": []
    },
    {
      "cell_type": "markdown",
      "source": [
        "## Vanilla"
      ],
      "metadata": {
        "id": "To9QQayxAkOr"
      }
    },
    {
      "cell_type": "code",
      "source": [
        "model = AE([n_genes], 32)\n",
        "criterion = nn.MSELoss() # Mean Square Error Loss\n",
        "optimizer = torch.optim.Adam(model.parameters(), lr=0.001) # Adam optimizer"
      ],
      "metadata": {
        "id": "FuRtVn63ApR8"
      },
      "execution_count": 21,
      "outputs": []
    },
    {
      "cell_type": "markdown",
      "source": [
        "#### Training"
      ],
      "metadata": {
        "id": "69FKLLfdB_0a"
      }
    },
    {
      "cell_type": "code",
      "source": [
        "losses, eval_losses = model.train(dl, test, optimizer, criterion, epochs = 100)"
      ],
      "metadata": {
        "colab": {
          "base_uri": "https://localhost:8080/"
        },
        "id": "6IyHmeczB_S5",
        "outputId": "84c175a8-57c6-48f7-9a5d-5c9251325d3e"
      },
      "execution_count": 22,
      "outputs": [
        {
          "output_type": "stream",
          "name": "stdout",
          "text": [
            "epoch:   1  loss: 0.27976453\n",
            "epoch:   5  loss: 0.10337164\n",
            "epoch:   9  loss: 0.07779962\n",
            "epoch:  13  loss: 0.06999489\n",
            "epoch:  17  loss: 0.06725243\n",
            "epoch:  21  loss: 0.06413924\n",
            "epoch:  25  loss: 0.06163051\n",
            "epoch:  29  loss: 0.05949778\n",
            "epoch:  33  loss: 0.05792957\n",
            "epoch:  37  loss: 0.05680911\n",
            "epoch:  41  loss: 0.05650362\n"
          ]
        }
      ]
    },
    {
      "cell_type": "code",
      "source": [
        "plot_line(range(len(losses)), \n",
        "          losses, \n",
        "          eval_losses, \n",
        "          save_fig= True, \n",
        "          path = base_dir, \n",
        "          fig_name = 'loss_vanilla.png')"
      ],
      "metadata": {
        "colab": {
          "base_uri": "https://localhost:8080/",
          "height": 334
        },
        "id": "2iOvXOlwEOAF",
        "outputId": "1359cb38-69bd-476f-c971-cf072d8bb3d2"
      },
      "execution_count": 23,
      "outputs": [
        {
          "output_type": "display_data",
          "data": {
            "text/plain": [
              "<Figure size 538.56x360 with 1 Axes>"
            ],
            "image/png": "[encoded data removed]"
          },
          "metadata": {
            "needs_background": "light"
          }
        }
      ]
    },
    {
      "cell_type": "code",
      "source": [
        "y, labels = next(iter(DataLoader(cortex, \n",
        "                                 batch_size= cortex.n_cells,\n",
        "                                 shuffle=True)))\n",
        "labels = labels.numpy()"
      ],
      "metadata": {
        "id": "ZuIxGcxaCdAa"
      },
      "execution_count": 24,
      "outputs": []
    },
    {
      "cell_type": "code",
      "source": [
        "# finding the representation of the data from the trained model:\n",
        "with torch.no_grad():  \n",
        "  latent, _ = model(y)\n",
        "latent = latent.numpy()"
      ],
      "metadata": {
        "id": "yAGBZVCWCb-D"
      },
      "execution_count": 25,
      "outputs": []
    },
    {
      "cell_type": "code",
      "source": [
        "silhouette_coefficients = []\n",
        "kmeans_kwargs = {\"init\": \"random\", \"n_init\": 50, \"max_iter\": 400, \"random_state\": 197}\n",
        "\n",
        "\n",
        "for k in range(2, 10):\n",
        "    kmeans = KMeans(n_clusters=k, **kmeans_kwargs)\n",
        "    kmeans.fit(latent)\n",
        "    score = metrics.silhouette_score(y, kmeans.labels_)\n",
        "    silhouette_coefficients.append(score)"
      ],
      "metadata": {
        "id": "CISdVxL1CqBf"
      },
      "execution_count": 26,
      "outputs": []
    },
    {
      "cell_type": "code",
      "source": [
        "plot_line(range(2, 10), \n",
        "          silhouette_coefficients,\n",
        "          line_style= \"o-\", \n",
        "          color = '#1ac6ff', \n",
        "          axis_x_ticks = range(2, 10), \n",
        "          ylab = \"Silhouette Coefficient\",\n",
        "          xlab = \"Number of Clusters\", \n",
        "          save_fig= True, \n",
        "          path = base_dir, \n",
        "          fig_name = 'sil_vanilla.png')"
      ],
      "metadata": {
        "colab": {
          "base_uri": "https://localhost:8080/",
          "height": 280
        },
        "outputId": "538b082a-7d4d-4fb7-9d0b-ebec7c61837a",
        "id": "oLtILN1YC7vx"
      },
      "execution_count": 27,
      "outputs": [
        {
          "output_type": "display_data",
          "data": {
            "text/plain": [
              "<Figure size 432x288 with 1 Axes>"
            ],
            "image/png": "[encoded data removed]"
          },
          "metadata": {
            "needs_background": "light"
          }
        }
      ]
    },
    {
      "cell_type": "code",
      "source": [
        "measure_q(latent, labels)"
      ],
      "metadata": {
        "colab": {
          "base_uri": "https://localhost:8080/"
        },
        "outputId": "32e31e9d-1a06-4b0c-9a46-401303dee373",
        "id": "WKVB7ns-C7vz"
      },
      "execution_count": 28,
      "outputs": [
        {
          "output_type": "stream",
          "name": "stdout",
          "text": [
            "The NMI score is: 0.48316295773272677\n",
            "The ARI score is: 0.31287716899045886\n",
            "The ASW score is: 0.25655311346054077\n"
          ]
        }
      ]
    },
    {
      "cell_type": "markdown",
      "source": [
        "## Deep"
      ],
      "metadata": {
        "id": "ux52mXWRAm8k"
      }
    },
    {
      "cell_type": "code",
      "source": [
        "model = AE([n_genes, 1024], 16)\n",
        "criterion = nn.MSELoss() # Mean Square Error Loss\n",
        "optimizer = torch.optim.Adam(model.parameters(), lr=0.001) # Adam optimizer"
      ],
      "metadata": {
        "id": "5gZiJXJDtXyK"
      },
      "execution_count": 24,
      "outputs": []
    },
    {
      "cell_type": "code",
      "source": [
        "losses, eval_losses = model.train(dl, test, optimizer, criterion, epochs = 100)"
      ],
      "metadata": {
        "colab": {
          "base_uri": "https://localhost:8080/"
        },
        "outputId": "a5f76f6f-e5e0-4db6-8e41-6beb953f88a1",
        "id": "SkU7Twvyhu-P"
      },
      "execution_count": 25,
      "outputs": [
        {
          "output_type": "stream",
          "name": "stdout",
          "text": [
            "epoch:   1  loss: 0.14026407\n",
            "epoch:   5  loss: 0.05698626\n",
            "epoch:   9  loss: 0.05286349\n",
            "epoch:  13  loss: 0.05147142\n",
            "epoch:  17  loss: 0.04962677\n",
            "epoch:  21  loss: 0.04872786\n"
          ]
        }
      ]
    },
    {
      "cell_type": "code",
      "source": [
        "plot_line(range(len(losses)),\n",
        "          losses, \n",
        "          eval_losses, \n",
        "          save_fig= True, \n",
        "          path = base_dir, \n",
        "          fig_name = 'loss_deep.png')"
      ],
      "metadata": {
        "colab": {
          "base_uri": "https://localhost:8080/",
          "height": 334
        },
        "outputId": "a55df5e2-889b-46b7-9e8e-1692f0f2e152",
        "id": "PQT3xUwFhu-Q"
      },
      "execution_count": 26,
      "outputs": [
        {
          "output_type": "display_data",
          "data": {
            "text/plain": [
              "<Figure size 538.56x360 with 1 Axes>"
            ],
            "image/png": "[encoded data removed]"
          },
          "metadata": {
            "needs_background": "light"
          }
        }
      ]
    },
    {
      "cell_type": "code",
      "source": [
        "y, labels = next(iter(DataLoader(cortex, \n",
        "                                 batch_size= cortex.n_cells,\n",
        "                                 shuffle=True)))\n",
        "labels = labels.numpy()"
      ],
      "metadata": {
        "id": "YnOgXhv_hu-Q"
      },
      "execution_count": 32,
      "outputs": []
    },
    {
      "cell_type": "code",
      "source": [
        "# finding the representation of the data from the trained model:\n",
        "with torch.no_grad():  \n",
        "  latent, _ = model(y)\n",
        "latent = latent.numpy()"
      ],
      "metadata": {
        "id": "NvTKl0QBhu-R"
      },
      "execution_count": 33,
      "outputs": []
    },
    {
      "cell_type": "code",
      "source": [
        "silhouette_coefficients = []\n",
        "kmeans_kwargs = {\"init\": \"random\", \"n_init\": 50, \"max_iter\": 400, \"random_state\": 197}\n",
        "\n",
        "\n",
        "for k in range(2, 10):\n",
        "    kmeans = KMeans(n_clusters=k, **kmeans_kwargs)\n",
        "    kmeans.fit(latent)\n",
        "    score = metrics.silhouette_score(y, kmeans.labels_)\n",
        "    silhouette_coefficients.append(score)"
      ],
      "metadata": {
        "id": "d3neaMfKhu-S"
      },
      "execution_count": 34,
      "outputs": []
    },
    {
      "cell_type": "code",
      "source": [
        "plot_line(range(2, 10), \n",
        "          silhouette_coefficients,\n",
        "          line_style= \"o-\", \n",
        "          color = '#1ac6ff', \n",
        "          axis_x_ticks = range(2, 10), \n",
        "          ylab = \"Silhouette Coefficient\",\n",
        "          xlab = \"Number of Clusters\", \n",
        "          save_fig= True, \n",
        "          path = base_dir, \n",
        "          fig_name = 'sil_deep.png')"
      ],
      "metadata": {
        "colab": {
          "base_uri": "https://localhost:8080/",
          "height": 279
        },
        "outputId": "602307c3-ab9b-4b2b-fe49-60cacc3f88da",
        "id": "6g9TDEinhu-S"
      },
      "execution_count": 35,
      "outputs": [
        {
          "output_type": "display_data",
          "data": {
            "text/plain": [
              "<Figure size 432x288 with 1 Axes>"
            ],
            "image/png": "[encoded data removed]"
          },
          "metadata": {
            "needs_background": "light"
          }
        }
      ]
    },
    {
      "cell_type": "code",
      "source": [
        "measure_q(latent, labels)"
      ],
      "metadata": {
        "colab": {
          "base_uri": "https://localhost:8080/"
        },
        "outputId": "1dab4f7a-2ff2-4a08-9871-349dd7de68a8",
        "id": "CqS6yrpMhu-T"
      },
      "execution_count": 36,
      "outputs": [
        {
          "output_type": "stream",
          "name": "stdout",
          "text": [
            "The NMI score is: 0.7851868421703063\n",
            "The ARI score is: 0.7332506049752114\n",
            "The ASW score is: 0.237818643450737\n"
          ]
        }
      ]
    },
    {
      "cell_type": "markdown",
      "source": [
        "# Comparison of the three methods"
      ],
      "metadata": {
        "id": "-C-0Rulgmk1x"
      }
    },
    {
      "cell_type": "code",
      "source": [
        "methods = ['PCA', 'Vanilla', 'Deep']\n",
        "q_measurements = ['NMI', 'ARI', 'ASW']\n",
        "data = [[0.5598, 0.4714, 0.3055],\n",
        "        [0.4831, 0.3128, 0.2565],\n",
        "        [0.7851, 0.7332, 0.2378]]"
      ],
      "metadata": {
        "id": "Nir8GjyPmkIM"
      },
      "execution_count": 28,
      "outputs": []
    },
    {
      "cell_type": "code",
      "source": [
        "# cmap = plt.cm.get_cmap('tab10')\n",
        "color = ['#660033', '#66ccff', '#000066']\n",
        "  \n",
        "fig, ax = plt.subplots(figsize=(8.9,5))\n",
        "\n",
        "X_axis = np.arange(len(methods))\n",
        "band = np.linspace(-0.1, 0.3, 3)\n",
        "\n",
        "for i, y in enumerate(np.array(data).T):\n",
        "  ax.bar(X_axis + band[i], y, 0.2, label = q_measurements[i], color = color[i])#color = cmap.colors[i])\n",
        "\n",
        "ax.set_xticks(X_axis)\n",
        "ax.set_xticklabels(methods)\n",
        "\n",
        "ax.spines[\"top\"].set_color(None)\n",
        "ax.spines[\"right\"].set_color(None)\n",
        "ax.spines[\"bottom\"].set_color(\"black\")\n",
        "ax.spines[\"left\"].set_color(\"black\")\n",
        "ax.set_ylabel('Score')\n",
        "ax.set_xlabel('Model')\n",
        "plt.legend(bbox_to_anchor=(1.04, 1), loc=\"upper left\")\n",
        "plt.savefig(base_dir + 'comparison.png', bbox_inches='tight')\n",
        "plt.show()"
      ],
      "metadata": {
        "colab": {
          "base_uri": "https://localhost:8080/",
          "height": 334
        },
        "id": "qokuLqYLpjIu",
        "outputId": "1347e9b8-6553-4b3e-b0a7-97d0c6e995e0"
      },
      "execution_count": 35,
      "outputs": [
        {
          "output_type": "display_data",
          "data": {
            "text/plain": [
              "<Figure size 640.8x360 with 1 Axes>"
            ],
            "image/png": "[encoded data removed]"
          },
          "metadata": {
            "needs_background": "light"
          }
        }
      ]
    },
    {
      "cell_type": "code",
      "source": [],
      "metadata": {
        "id": "IKgsQhGgq1rO"
      },
      "execution_count": null,
      "outputs": []
    }
  ]
}